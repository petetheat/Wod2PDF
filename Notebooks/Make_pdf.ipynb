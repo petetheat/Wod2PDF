{
 "cells": [
  {
   "cell_type": "code",
   "execution_count": 1,
   "metadata": {
    "collapsed": true
   },
   "outputs": [],
   "source": [
    "from Wod2PDF import Wod2Pdf, PDF\n",
    "import sqlite3\n",
    "from datetime import datetime\n",
    "\n",
    "import numpy as np\n",
    "\n",
    "from fpdf import FPDF"
   ]
  },
  {
   "cell_type": "code",
   "execution_count": 2,
   "outputs": [],
   "source": [
    "%load_ext autoreload\n",
    "%autoreload 2"
   ],
   "metadata": {
    "collapsed": false,
    "pycharm": {
     "name": "#%%\n"
    }
   }
  },
  {
   "cell_type": "code",
   "execution_count": 3,
   "outputs": [],
   "source": [
    "wod = Wod2Pdf('../../WodPlannerApp/db.sqlite3')"
   ],
   "metadata": {
    "collapsed": false,
    "pycharm": {
     "name": "#%%\n"
    }
   }
  },
  {
   "cell_type": "code",
   "execution_count": 3,
   "outputs": [],
   "source": [],
   "metadata": {
    "collapsed": false,
    "pycharm": {
     "name": "#%%\n"
    }
   }
  },
  {
   "cell_type": "code",
   "execution_count": 4,
   "outputs": [],
   "source": [
    "Wod2Pdf.write_pdf('../../WodPlannerApp/db.sqlite3', f'Carabao_WODS.pdf')"
   ],
   "metadata": {
    "collapsed": false,
    "pycharm": {
     "name": "#%%\n"
    }
   }
  },
  {
   "cell_type": "code",
   "execution_count": 5,
   "outputs": [],
   "source": [
    "wod.cursor.execute(\"SELECT * from wodplannerapp_wod;\")\n",
    "all_data = wod.cursor.fetchall()"
   ],
   "metadata": {
    "collapsed": false,
    "pycharm": {
     "name": "#%%\n"
    }
   }
  },
  {
   "cell_type": "code",
   "execution_count": 6,
   "outputs": [],
   "source": [
    "ids = np.array([i[0] for i in all_data])\n",
    "dates = np.array([datetime.strptime(i[1], '%Y-%m-%d %H:%M:%S') for i in all_data])"
   ],
   "metadata": {
    "collapsed": false,
    "pycharm": {
     "name": "#%%\n"
    }
   }
  },
  {
   "cell_type": "code",
   "execution_count": 7,
   "outputs": [],
   "source": [
    "idx_sorted = np.argsort(dates)"
   ],
   "metadata": {
    "collapsed": false,
    "pycharm": {
     "name": "#%%\n"
    }
   }
  },
  {
   "cell_type": "code",
   "execution_count": 8,
   "outputs": [
    {
     "data": {
      "text/plain": "array([  1,   2,   3, 157, 186, 187, 216, 217, 218, 219, 220, 221, 222,\n       223, 224, 225, 226, 227, 362, 363, 364, 365, 366, 367, 368, 369,\n       370, 371, 372, 373, 374, 375, 376, 377, 210, 209, 211, 212, 213,\n       215, 214, 229, 230, 228, 231, 232, 233, 234, 235, 236, 237, 238,\n       239, 240, 241, 242, 244, 243, 245, 246, 247, 249, 248, 250, 251,\n       252, 253, 254, 255, 256, 257, 258, 260, 259, 261, 262, 263, 264,\n       265, 266, 267, 268, 269, 270, 272, 273, 275, 276, 271, 274, 277,\n       278, 279, 280, 281, 282, 284, 283, 285, 287, 286, 288, 289, 290,\n       292, 291, 293, 294, 295, 296, 297, 298, 299, 300, 301, 302, 305,\n       304, 303, 306, 307, 308, 309, 310, 311, 313, 314, 312, 315, 316,\n       317, 318, 319, 320, 321, 322, 323, 324, 325, 326, 327, 328, 329,\n       331, 332, 334, 335, 333, 336, 337, 338, 339, 340, 341, 343, 342,\n       344, 345, 346, 347, 348, 349, 350, 351, 352, 353, 354, 355, 356,\n       357, 358, 360, 361, 359])"
     },
     "execution_count": 8,
     "metadata": {},
     "output_type": "execute_result"
    }
   ],
   "source": [
    "ids[idx_sorted]"
   ],
   "metadata": {
    "collapsed": false,
    "pycharm": {
     "name": "#%%\n"
    }
   }
  },
  {
   "cell_type": "code",
   "execution_count": 9,
   "outputs": [],
   "source": [
    "idx = dict(zip(dates, ids))"
   ],
   "metadata": {
    "collapsed": false,
    "pycharm": {
     "name": "#%%\n"
    }
   }
  },
  {
   "cell_type": "code",
   "execution_count": 10,
   "outputs": [
    {
     "data": {
      "text/plain": "dict_values([1, 2, 3, 157, 186, 187, 209, 210, 211, 212, 213, 214, 215, 216, 217, 218, 219, 220, 221, 222, 223, 224, 225, 226, 227, 228, 229, 230, 231, 232, 233, 234, 235, 236, 237, 238, 239, 240, 241, 242, 243, 244, 245, 246, 247, 248, 249, 250, 251, 252, 253, 254, 255, 256, 257, 258, 259, 260, 261, 262, 263, 264, 265, 266, 267, 268, 269, 270, 271, 272, 273, 274, 275, 276, 277, 278, 279, 280, 281, 282, 283, 284, 285, 286, 287, 288, 289, 290, 291, 292, 293, 294, 295, 296, 297, 298, 299, 300, 301, 302, 303, 304, 305, 306, 307, 308, 309, 310, 311, 312, 313, 314, 315, 316, 317, 318, 319, 320, 321, 322, 323, 324, 325, 326, 327, 328, 329, 331, 332, 333, 334, 335, 336, 337, 338, 339, 340, 341, 342, 343, 344, 345, 346, 347, 348, 349, 350, 351, 352, 353, 354, 355, 356, 357, 358, 359, 360, 361, 362, 363, 364, 365, 366, 367, 368, 369, 370, 371, 372, 373, 374, 375, 376, 377])"
     },
     "execution_count": 10,
     "metadata": {},
     "output_type": "execute_result"
    }
   ],
   "source": [
    "idx.values()"
   ],
   "metadata": {
    "collapsed": false,
    "pycharm": {
     "name": "#%%\n"
    }
   }
  },
  {
   "cell_type": "code",
   "execution_count": 10,
   "outputs": [
    {
     "data": {
      "text/plain": "{'id': (346, 'Bent Over Barbell Row', '10x3', 280),\n 'pub_date': '2021-10-20 00:00:00',\n 'strength_type': 'Upper',\n 'strength_comment': 'Supersatz: keine Pause zwischen Rows und Press. 90sec Pause zwischen 2 Sätzen',\n 'wod_schema': 'AMRAP',\n 'wod_time_rounds': '12:00',\n 'wod_comment': '',\n 'track_id': 1,\n 'strength_movement': (347, 'Bench Press', '10x3', 280)}"
     },
     "execution_count": 10,
     "metadata": {},
     "output_type": "execute_result"
    }
   ],
   "source": [
    "wod._get_wod(280)"
   ],
   "metadata": {
    "collapsed": false,
    "pycharm": {
     "name": "#%%\n"
    }
   }
  },
  {
   "cell_type": "code",
   "execution_count": 9,
   "outputs": [],
   "source": [
    "wid = 280\n",
    "wod.cursor.execute(f\"SELECT * from wodplannerapp_strengthmovement WHERE wod_id=={wid}\")\n",
    "strength_data = wod.cursor.fetchall()\n",
    "header_strength = [i[0] for i in wod.cursor.description]"
   ],
   "metadata": {
    "collapsed": false,
    "pycharm": {
     "name": "#%%\n"
    }
   }
  },
  {
   "cell_type": "code",
   "execution_count": 10,
   "outputs": [],
   "source": [
    "wod.cursor.execute(f\"SELECT * from wodplannerapp_wod WHERE id={wid};\")\n",
    "wod_data = list(wod.cursor.fetchone())"
   ],
   "metadata": {
    "collapsed": false,
    "pycharm": {
     "name": "#%%\n"
    }
   }
  },
  {
   "cell_type": "code",
   "execution_count": 18,
   "outputs": [
    {
     "data": {
      "text/plain": "[(315, 'Thruster', '5', '42.5kg/30kg', 280),\n (316, 'Janda Sit-up', '10', '', 280),\n (317, 'Farmer Carry', '20m', '2x32kg/2x24kg', 280)]"
     },
     "execution_count": 18,
     "metadata": {},
     "output_type": "execute_result"
    }
   ],
   "source": [
    "wod.cursor.execute(f\"SELECT * from wodplannerapp_wodmovement WHERE wod_id=={wid}\")\n",
    "wod.cursor.fetchall()"
   ],
   "metadata": {
    "collapsed": false,
    "pycharm": {
     "name": "#%%\n"
    }
   }
  },
  {
   "cell_type": "code",
   "execution_count": 11,
   "outputs": [
    {
     "data": {
      "text/plain": "[280,\n '2021-10-20 00:00:00',\n 'Upper',\n 'Supersatz: keine Pause zwischen Rows und Press. 90sec Pause zwischen 2 Sätzen',\n 'AMRAP',\n '12:00',\n '',\n 1]"
     },
     "execution_count": 11,
     "metadata": {},
     "output_type": "execute_result"
    }
   ],
   "source": [
    "wod_data"
   ],
   "metadata": {
    "collapsed": false,
    "pycharm": {
     "name": "#%%\n"
    }
   }
  },
  {
   "cell_type": "code",
   "execution_count": 27,
   "outputs": [
    {
     "data": {
      "text/plain": "[(345, 'Rope Climb', '5x2', 279)]"
     },
     "execution_count": 27,
     "metadata": {},
     "output_type": "execute_result"
    }
   ],
   "source": [
    "strength_data"
   ],
   "metadata": {
    "collapsed": false,
    "pycharm": {
     "name": "#%%\n"
    }
   }
  },
  {
   "cell_type": "code",
   "execution_count": 14,
   "outputs": [
    {
     "data": {
      "text/plain": "[280,\n '2021-10-20 00:00:00',\n 'Upper',\n 'Supersatz: keine Pause zwischen Rows und Press. 90sec Pause zwischen 2 Sätzen',\n 'AMRAP',\n '12:00',\n '',\n 1]"
     },
     "execution_count": 14,
     "metadata": {},
     "output_type": "execute_result"
    }
   ],
   "source": [
    "wod.cursor.execute(f\"SELECT * from wodplannerapp_wod WHERE id={wid};\")\n",
    "wod_data = list(wod.cursor.fetchone())\n",
    "header = [i[0] for i in wod.cursor.description]\n",
    "wod_data"
   ],
   "metadata": {
    "collapsed": false,
    "pycharm": {
     "name": "#%%\n"
    }
   }
  },
  {
   "cell_type": "code",
   "execution_count": 16,
   "outputs": [],
   "source": [
    "t = datetime.strptime(wod_data[1], '%Y-%m-%d %H:%M:%S')"
   ],
   "metadata": {
    "collapsed": false,
    "pycharm": {
     "name": "#%%\n"
    }
   }
  },
  {
   "cell_type": "code",
   "execution_count": 22,
   "outputs": [
    {
     "name": "stdout",
     "output_type": "stream",
     "text": [
      "20.October.2021\n"
     ]
    }
   ],
   "source": [
    "print(datetime.strftime(t, '%d. %B %Y'))"
   ],
   "metadata": {
    "collapsed": false,
    "pycharm": {
     "name": "#%%\n"
    }
   }
  },
  {
   "cell_type": "code",
   "execution_count": 22,
   "outputs": [
    {
     "data": {
      "text/plain": "{'id': (346, 'Bent Over Barbell Row', '10x3', 280),\n 'strength_movement': (347, 'Bench Press', '10x3', 280)}"
     },
     "execution_count": 22,
     "metadata": {},
     "output_type": "execute_result"
    }
   ],
   "source": [
    "dict(zip(header_strength, strength_data))"
   ],
   "metadata": {
    "collapsed": false,
    "pycharm": {
     "name": "#%%\n"
    }
   }
  },
  {
   "cell_type": "code",
   "execution_count": 4,
   "outputs": [
    {
     "data": {
      "text/plain": "''"
     },
     "execution_count": 4,
     "metadata": {},
     "output_type": "execute_result"
    }
   ],
   "source": [
    "pdf = PDF()\n",
    "pdf.alias_nb_pages()\n",
    "pdf.add_page()\n",
    "pdf.set_font('Times', '', 12)\n",
    "for i in range(1, 10):\n",
    "    pdf.cell(0, 10, 'Printing line number ' + str(i), 0, 1)\n",
    "pdf.output('tuto3.pdf', 'F')"
   ],
   "metadata": {
    "collapsed": false,
    "pycharm": {
     "name": "#%%\n"
    }
   }
  },
  {
   "cell_type": "code",
   "execution_count": 8,
   "outputs": [],
   "source": [
    "con = sqlite3.connect('../db.sqlite3')"
   ],
   "metadata": {
    "collapsed": false,
    "pycharm": {
     "name": "#%%\n"
    }
   }
  },
  {
   "cell_type": "code",
   "execution_count": 9,
   "outputs": [],
   "source": [
    "cur = con.cursor()"
   ],
   "metadata": {
    "collapsed": false,
    "pycharm": {
     "name": "#%%\n"
    }
   }
  },
  {
   "cell_type": "code",
   "execution_count": 10,
   "outputs": [],
   "source": [
    "cur.execute(\"SELECT id from wodplannerapp_wod;\")\n",
    "\n",
    "wod_ids = [i[0] for i in cur.fetchall()]"
   ],
   "metadata": {
    "collapsed": false,
    "pycharm": {
     "name": "#%%\n"
    }
   }
  },
  {
   "cell_type": "code",
   "execution_count": 11,
   "outputs": [
    {
     "data": {
      "text/plain": "(1, '2020-08-26 12:00:00', 'Lower', '-', 'RFT', '5', '-', 1)"
     },
     "execution_count": 11,
     "metadata": {},
     "output_type": "execute_result"
    }
   ],
   "source": [
    "wid = wod_ids[0]\n",
    "cur.execute(f\"SELECT * from wodplannerapp_wod WHERE id={wid};\")\n",
    "cur.fetchone()"
   ],
   "metadata": {
    "collapsed": false,
    "pycharm": {
     "name": "#%%\n"
    }
   }
  },
  {
   "cell_type": "code",
   "execution_count": 11,
   "outputs": [
    {
     "data": {
      "text/plain": "(('id', None, None, None, None, None, None),\n ('pub_date', None, None, None, None, None, None),\n ('strength_type', None, None, None, None, None, None),\n ('strength_comment', None, None, None, None, None, None),\n ('wod_schema', None, None, None, None, None, None),\n ('wod_time_rounds', None, None, None, None, None, None),\n ('wod_comment', None, None, None, None, None, None),\n ('track_id', None, None, None, None, None, None))"
     },
     "execution_count": 11,
     "metadata": {},
     "output_type": "execute_result"
    }
   ],
   "source": [
    "cur.description"
   ],
   "metadata": {
    "collapsed": false,
    "pycharm": {
     "name": "#%%\n"
    }
   }
  },
  {
   "cell_type": "code",
   "execution_count": 62,
   "outputs": [],
   "source": [
    "FCH_HSV = np.array([5.2, 5, 1.5])"
   ],
   "metadata": {
    "collapsed": false,
    "pycharm": {
     "name": "#%%\n"
    }
   }
  },
  {
   "cell_type": "code",
   "execution_count": 64,
   "outputs": [
    {
     "data": {
      "text/plain": "1.058974358974359"
     },
     "execution_count": 64,
     "metadata": {},
     "output_type": "execute_result"
    }
   ],
   "source": [
    "sum(1/FCH_HSV)"
   ],
   "metadata": {
    "collapsed": false,
    "pycharm": {
     "name": "#%%\n"
    }
   }
  },
  {
   "cell_type": "code",
   "execution_count": 65,
   "outputs": [
    {
     "data": {
      "text/plain": "array([0.19230769, 0.2       , 0.66666667])"
     },
     "execution_count": 65,
     "metadata": {},
     "output_type": "execute_result"
    }
   ],
   "source": [
    "1/FCH_HSV"
   ],
   "metadata": {
    "collapsed": false,
    "pycharm": {
     "name": "#%%\n"
    }
   }
  },
  {
   "cell_type": "code",
   "execution_count": null,
   "outputs": [],
   "source": [],
   "metadata": {
    "collapsed": false,
    "pycharm": {
     "name": "#%%\n"
    }
   }
  }
 ],
 "metadata": {
  "kernelspec": {
   "name": "py38",
   "language": "python",
   "display_name": "py38"
  },
  "language_info": {
   "codemirror_mode": {
    "name": "ipython",
    "version": 2
   },
   "file_extension": ".py",
   "mimetype": "text/x-python",
   "name": "python",
   "nbconvert_exporter": "python",
   "pygments_lexer": "ipython2",
   "version": "2.7.6"
  }
 },
 "nbformat": 4,
 "nbformat_minor": 0
}